{
 "cells": [
  {
   "cell_type": "code",
   "execution_count": 1,
   "id": "d9777f25",
   "metadata": {},
   "outputs": [],
   "source": [
    "import torch\n",
    "import torch.nn as nn\n",
    "import torch.nn.functional as F\n",
    "from torch.nn import Linear\n",
    "\n",
    "import torch_geometric.nn as pyg_nn\n",
    "from torch_geometric.nn import GCNConv\n",
    "from torch_geometric.data import Data, DataLoader\n",
    "\n",
    "import numpy as np\n",
    "import pandas as pd\n",
    "import matplotlib.pyplot as plt\n",
    "\n",
    "np.set_printoptions(precision=5, suppress=True)\n",
    "torch.set_printoptions(precision=5, sci_mode=False)"
   ]
  },
  {
   "cell_type": "code",
   "execution_count": 2,
   "id": "db417290",
   "metadata": {},
   "outputs": [],
   "source": [
    "def slice_dataset(dataset_in, percentage):\n",
    "    data_size = len(dataset_in)\n",
    "    index = [i for i in range(len(dataset))]\n",
    "    np.random.shuffle(index)\n",
    "    dataset_random = dataset_in[index,:]\n",
    "    return dataset_random[:int(data_size*percentage/100)],dataset_random[int(data_size*percentage/100):]\n",
    "\n",
    "def make_dataset(dataset, n_bus):\n",
    "    x_raw_1, y_raw_1 = [], []\n",
    "    x_raw, y_raw = [], []\n",
    "\n",
    "    for i in range(len(dataset)):\n",
    "        y_raw_1=[dataset[i,9600]]\n",
    "        for n in range(n_bus):\n",
    "            x_raw_1.append(list(dataset[i,400*n:400*n+400])) \n",
    "        \n",
    "        x_raw.append(list(x_raw_1))\n",
    "        y_raw.append(y_raw_1)\n",
    "        x_raw_1, y_raw_1 = [], []\n",
    "\n",
    "    x_raw = torch.tensor(x_raw, dtype=torch.float)\n",
    "    y_raw = torch.tensor(y_raw, dtype=torch.float)\n",
    "    return x_raw, y_raw\n",
    "\n",
    "\n",
    "def NRMSE(yhat,y):\n",
    "    return torch.sqrt(torch.mean(((yhat-y)/torch.std(yhat,0))**2))\n",
    "\n",
    "def MSE(yhat,y):\n",
    "    return torch.mean((yhat-y)**2)"
   ]
  },
  {
   "cell_type": "code",
   "execution_count": 3,
   "id": "7188e335",
   "metadata": {},
   "outputs": [],
   "source": [
    "dataset = pd.read_excel('train_3rd_wrv_SNR45db.xlsx').values"
   ]
  },
  {
   "cell_type": "code",
   "execution_count": 4,
   "id": "50744f4a",
   "metadata": {},
   "outputs": [
    {
     "name": "stdout",
     "output_type": "stream",
     "text": [
      "[0.86086 0.85973 0.85676 ... 0.      0.      3.5    ]\n"
     ]
    }
   ],
   "source": [
    "dataset_0 = np.zeros([1100,9601])\n",
    "#dataset_10b=np.concatenate((dataset[:,0:400],dataset[:,600:800],dataset[:,1000:1800],dataset[:,2000:2200],dataset[:,2400:2600],dataset[:,2600:3000],dataset[:,3200:3400],dataset[:,3600:4400],dataset[:,4600:4800],dataset[:,5000:5201]),axis=1)\n",
    "#RoCoF Features\n",
    "dataset_0[:,0:200]=dataset[:,0:200] # bus 1 nodal features\n",
    "dataset_0[:,200:400]=dataset[:,2600:2800] # bus 1 nodal features\n",
    "dataset_0[:,400:600]=dataset[:,200:400] # bus 2 nodal features\n",
    "dataset_0[:,600:800]=dataset[:,2800:3000] # bus 2 nodal features\n",
    "\n",
    "dataset_0[:,4800:5000]=dataset[:,600:800] # bus 13 nodal features\n",
    "dataset_0[:,5200:5400]=dataset[:,3200:3400] # bus 13 nodal features\n",
    "\n",
    "dataset_0[:,6000:6200]=dataset[:,1200:1400] # bus 16 nodal features\n",
    "dataset_0[:,6200:6400]=dataset[:,3800:4000] # bus 16 nodal features\n",
    "\n",
    "dataset_0[:,6800:7000]=dataset[:,1400:1600] # bus 18 nodal features\n",
    "dataset_0[:,7000:7200]=dataset[:,4000:4200] # bus 18 nodal features\n",
    "\n",
    "dataset_0[:,8000:8200]=dataset[:,1600:1800] # bus 21 nodal features\n",
    "dataset_0[:,8200:8400]=dataset[:,4200:4400] # bus 21 nodal features\n",
    "\n",
    "dataset_0[:,8400:8600]=dataset[:,2000:2200] # bus 22,23 nodal features\n",
    "dataset_0[:,8600:8800]=dataset[:,4600:4800] # bus 22,23 nodal features\n",
    "\n",
    "dataset_0[:,8800:9000]=dataset[:,2400:2600] # bus 22,23 nodal features\n",
    "dataset_0[:,9000:9200]=dataset[:,5000:5200] # bus 22,23 nodal features\n",
    "dataset_0[:,9600:9601]=dataset[:,7000:7001] # labels\n",
    "print(dataset_0[0])"
   ]
  },
  {
   "cell_type": "code",
   "execution_count": 5,
   "id": "f4100fd1",
   "metadata": {},
   "outputs": [
    {
     "name": "stdout",
     "output_type": "stream",
     "text": [
      "(1100, 7001)\n"
     ]
    }
   ],
   "source": [
    "train_percentage = 80\n",
    "val_percentage = 20\n",
    "\n",
    "print(dataset.shape)\n",
    "train_dataset,val_dataset  = slice_dataset(dataset_0, train_percentage)\n",
    "#val_dataset = slice_dataset(dataset_0, val_percentage)\n",
    "\n",
    "n_bus = 24\n",
    "\n",
    "#actual data\n",
    "x_raw_train, y_raw_train = make_dataset(train_dataset,n_bus)\n",
    "x_raw_val, y_raw_val = make_dataset(val_dataset, n_bus)"
   ]
  },
  {
   "cell_type": "code",
   "execution_count": 6,
   "id": "58dd9115",
   "metadata": {},
   "outputs": [
    {
     "name": "stderr",
     "output_type": "stream",
     "text": [
      "D:\\Anaconda\\envs\\python38\\lib\\site-packages\\torch_geometric\\deprecation.py:12: UserWarning: 'data.DataLoader' is deprecated, use 'loader.DataLoader' instead\n",
      "  warnings.warn(out)\n"
     ]
    }
   ],
   "source": [
    "x_train, y_train = x_raw_train, y_raw_train\n",
    "x_val, y_val = x_raw_val, y_raw_val\n",
    "edge_index = torch.tensor([[0, 1, 0, 2, 0, 4, 1, 3, 1, 5, 2, 8, 2,23, 3, 8, 4, 9, 5, 9, 6, 7, 7, 8, 7, 9, 8,10, 8,11, 9,10, 9,11,10,12,10,13,11,12,11,22,12,22,13,15,14,15,14,20,14,23,15,16,15,18,16,17,16,21,17,20,18,19,19,22,20,21],\n",
    "                           [1, 0, 2, 0, 4, 0, 3, 1, 5, 1, 8, 2,23, 2, 8, 3, 9, 4, 9, 5, 7, 6, 8, 7, 9, 7,10, 8,11, 8,10, 9,11, 9,12,10,13,10,12,11,22,11,22,12,15,13,15,14,20,14,23,14,16,15,18,15,17,16,21,16,20,17,19,18,22,19,21,20]], dtype=torch.long)\n",
    "\n",
    "data_train_list, data_val_list = [], []\n",
    "for i,_ in enumerate(x_train):\n",
    "    data_train_list.append(Data(x=x_train[i], y=y_train[i], edge_index=edge_index))\n",
    "for i,_ in enumerate(x_val):\n",
    "    data_val_list.append(Data(x=x_val[i], y=y_val[i], edge_index=edge_index))\n",
    "\n",
    "train_loader = DataLoader(data_train_list, batch_size=1)\n",
    "val_loader = DataLoader(data_val_list, batch_size=1)"
   ]
  },
  {
   "cell_type": "code",
   "execution_count": 7,
   "id": "db34c408",
   "metadata": {},
   "outputs": [],
   "source": [
    "class My_GNN_NN(torch.nn.Module):\n",
    "    def __init__(self, node_size=None, feat_in=None, feat_size1=None, hidden_size1=None, output_size=None):\n",
    "        super(My_GNN_NN, self).__init__()\n",
    "        self.feat_in = feat_in if feat_in is not None else 400\n",
    "        self.feat_size1 = feat_in if feat_in is not None else 64\n",
    "        self.hidden_size1 = hidden_size1 if hidden_size1 is not None else 64\n",
    "        self.output_size = output_size if output_size is not None else 1\n",
    "        \n",
    "        self.conv1 = GCNConv(feat_in, feat_size1)\n",
    "        self.lin1 = Linear(node_size*feat_size1, hidden_size1)\n",
    "        self.lin2 = Linear(hidden_size1, output_size)\n",
    "\n",
    "    def forward(self, data):\n",
    "        x, edge_index = data.x, data.edge_index\n",
    "\n",
    "        x = self.conv1(x, edge_index)\n",
    "        x = torch.tanh(x)\n",
    "\n",
    "        x = x.flatten(start_dim = 0)\n",
    "        x = self.lin1(x)\n",
    "        x = torch.tanh(x)\n",
    "\n",
    "        x = self.lin2(x)\n",
    "\n",
    "        return x\n",
    "    \n",
    "    def save_weights(self, model, name):\n",
    "        torch.save(model, name)"
   ]
  },
  {
   "cell_type": "code",
   "execution_count": 8,
   "id": "74d563f6",
   "metadata": {},
   "outputs": [
    {
     "name": "stdout",
     "output_type": "stream",
     "text": [
      "conv1.bias\n",
      "torch.Size([64])\n",
      "conv1.lin.weight\n",
      "torch.Size([64, 400])\n",
      "lin1.weight\n",
      "torch.Size([128, 1536])\n",
      "lin1.bias\n",
      "torch.Size([128])\n",
      "lin2.weight\n",
      "torch.Size([1, 128])\n",
      "lin2.bias\n",
      "torch.Size([1])\n"
     ]
    },
    {
     "data": {
      "text/plain": [
       "222529"
      ]
     },
     "execution_count": 8,
     "metadata": {},
     "output_type": "execute_result"
    }
   ],
   "source": [
    "feat_in = 400\n",
    "feat_size1 = 64\n",
    "hidden_size1 = 128\n",
    "output_size = 1\n",
    "lr = 0.0001\n",
    "\n",
    "model = My_GNN_NN(n_bus, feat_in, feat_size1, hidden_size1, output_size)\n",
    "for name, param in model.named_parameters():\n",
    "  print(name)\n",
    "  print(param.size())\n",
    "\n",
    "param = sum(p.numel() for p in model.parameters() if p.requires_grad)\n",
    "param"
   ]
  },
  {
   "cell_type": "code",
   "execution_count": 9,
   "id": "3b634a6d",
   "metadata": {
    "scrolled": true
   },
   "outputs": [
    {
     "name": "stdout",
     "output_type": "stream",
     "text": [
      "epoch: 0    train loss: 2.8116890    val loss: 2.2388445\n",
      "epoch: 10    train loss: 0.1349994    val loss: 0.2473383\n",
      "epoch: 20    train loss: 0.0440006    val loss: 0.2244381\n",
      "epoch: 30    train loss: 0.0261421    val loss: 0.1964363\n",
      "epoch: 40    train loss: 0.0164654    val loss: 0.1877782\n",
      "epoch: 50    train loss: 0.0115441    val loss: 0.1855387\n",
      "epoch: 60    train loss: 0.0106086    val loss: 0.1800885\n",
      "epoch: 70    train loss: 0.0097294    val loss: 0.1851507\n",
      "epoch: 80    train loss: 0.0088302    val loss: 0.1830953\n",
      "epoch: 90    train loss: 0.0080866    val loss: 0.1750975\n",
      "epoch: 100    train loss: 0.0071330    val loss: 0.1656498\n",
      "epoch: 110    train loss: 0.0053554    val loss: 0.1613601\n",
      "epoch: 120    train loss: 0.0063520    val loss: 0.1574971\n",
      "epoch: 130    train loss: 0.0062930    val loss: 0.1552222\n",
      "epoch: 140    train loss: 0.0053455    val loss: 0.1533935\n",
      "epoch: 150    train loss: 0.0045494    val loss: 0.1523577\n",
      "epoch: 160    train loss: 0.0050564    val loss: 0.1441611\n",
      "epoch: 170    train loss: 0.0044641    val loss: 0.1387800\n",
      "epoch: 180    train loss: 0.0040395    val loss: 0.1387659\n",
      "epoch: 190    train loss: 0.0038370    val loss: 0.1336199\n",
      "epoch: 200    train loss: 0.0037404    val loss: 0.1292144\n",
      "epoch: 210    train loss: 0.0035851    val loss: 0.1253688\n",
      "epoch: 220    train loss: 0.0031859    val loss: 0.1224495\n",
      "epoch: 230    train loss: 0.0033714    val loss: 0.1161027\n",
      "epoch: 240    train loss: 0.0032707    val loss: 0.1148815\n",
      "epoch: 250    train loss: 0.0032980    val loss: 0.1151935\n",
      "epoch: 260    train loss: 0.0031800    val loss: 0.1164643\n",
      "epoch: 270    train loss: 0.0028239    val loss: 0.1122291\n",
      "epoch: 280    train loss: 0.0030070    val loss: 0.1119751\n",
      "epoch: 290    train loss: 0.0029622    val loss: 0.1060985\n",
      "epoch: 300    train loss: 0.0027103    val loss: 0.1056242\n",
      "epoch: 310    train loss: 0.0026884    val loss: 0.1071105\n",
      "epoch: 320    train loss: 0.0026017    val loss: 0.1028381\n",
      "epoch: 330    train loss: 0.0025690    val loss: 0.0960002\n",
      "epoch: 340    train loss: 0.0021797    val loss: 0.1014761\n",
      "epoch: 350    train loss: 0.0024981    val loss: 0.1020233\n",
      "epoch: 360    train loss: 0.0023157    val loss: 0.1004540\n",
      "epoch: 370    train loss: 0.0021124    val loss: 0.1001193\n",
      "epoch: 380    train loss: 0.0020303    val loss: 0.0973111\n",
      "epoch: 390    train loss: 0.0025925    val loss: 0.0970289\n",
      "epoch: 400    train loss: 0.0022239    val loss: 0.0958838\n",
      "epoch: 410    train loss: 0.0019944    val loss: 0.0979098\n",
      "epoch: 420    train loss: 0.0018179    val loss: 0.0974361\n",
      "epoch: 430    train loss: 0.0015491    val loss: 0.0958558\n",
      "epoch: 440    train loss: 0.0016112    val loss: 0.0896844\n",
      "epoch: 450    train loss: 0.0018661    val loss: 0.0944115\n",
      "epoch: 460    train loss: 0.0017363    val loss: 0.0909448\n",
      "epoch: 470    train loss: 0.0017669    val loss: 0.0882582\n",
      "epoch: 480    train loss: 0.0018412    val loss: 0.0931140\n",
      "epoch: 490    train loss: 0.0019087    val loss: 0.0903263\n",
      "epoch: 500    train loss: 0.0015624    val loss: 0.0909631\n",
      "epoch: 510    train loss: 0.0013935    val loss: 0.0854389\n",
      "epoch: 520    train loss: 0.0013393    val loss: 0.0835287\n",
      "epoch: 530    train loss: 0.0014508    val loss: 0.0857309\n",
      "epoch: 540    train loss: 0.0014386    val loss: 0.0843159\n",
      "epoch: 550    train loss: 0.0013460    val loss: 0.0864580\n",
      "epoch: 560    train loss: 0.0014728    val loss: 0.0848614\n",
      "epoch: 570    train loss: 0.0011851    val loss: 0.0898468\n",
      "epoch: 580    train loss: 0.0013690    val loss: 0.0904904\n",
      "epoch: 590    train loss: 0.0013164    val loss: 0.0810496\n",
      "epoch: 600    train loss: 0.0013242    val loss: 0.0847916\n",
      "epoch: 610    train loss: 0.0011269    val loss: 0.0882345\n",
      "epoch: 620    train loss: 0.0012022    val loss: 0.0845511\n",
      "epoch: 630    train loss: 0.0010339    val loss: 0.0879621\n",
      "epoch: 640    train loss: 0.0010203    val loss: 0.0899352\n",
      "epoch: 650    train loss: 0.0013423    val loss: 0.0819634\n",
      "epoch: 660    train loss: 0.0010604    val loss: 0.0796600\n",
      "epoch: 670    train loss: 0.0010537    val loss: 0.0847824\n",
      "epoch: 680    train loss: 0.0011334    val loss: 0.0882176\n",
      "epoch: 690    train loss: 0.0009149    val loss: 0.0850311\n",
      "epoch: 700    train loss: 0.0008391    val loss: 0.0888406\n",
      "epoch: 710    train loss: 0.0011006    val loss: 0.0812430\n",
      "epoch: 720    train loss: 0.0009363    val loss: 0.0768011\n",
      "epoch: 730    train loss: 0.0009718    val loss: 0.0765576\n",
      "epoch: 740    train loss: 0.0009015    val loss: 0.0815204\n",
      "epoch: 750    train loss: 0.0009945    val loss: 0.0869247\n",
      "epoch: 760    train loss: 0.0010586    val loss: 0.0820717\n",
      "epoch: 770    train loss: 0.0009522    val loss: 0.0813919\n",
      "epoch: 780    train loss: 0.0010485    val loss: 0.0795431\n",
      "epoch: 790    train loss: 0.0007455    val loss: 0.0825558\n",
      "epoch: 800    train loss: 0.0010024    val loss: 0.0823316\n",
      "epoch: 810    train loss: 0.0009687    val loss: 0.0831863\n",
      "epoch: 820    train loss: 0.0008936    val loss: 0.0821789\n",
      "epoch: 830    train loss: 0.0009021    val loss: 0.0789772\n",
      "epoch: 840    train loss: 0.0006949    val loss: 0.0823294\n",
      "epoch: 850    train loss: 0.0007473    val loss: 0.0781847\n",
      "epoch: 860    train loss: 0.0007089    val loss: 0.0794651\n",
      "epoch: 870    train loss: 0.0007540    val loss: 0.0820751\n",
      "epoch: 880    train loss: 0.0009935    val loss: 0.0805582\n",
      "epoch: 890    train loss: 0.0007789    val loss: 0.0783064\n",
      "epoch: 900    train loss: 0.0005604    val loss: 0.0813975\n",
      "epoch: 910    train loss: 0.0007714    val loss: 0.0795100\n",
      "epoch: 920    train loss: 0.0006990    val loss: 0.0803535\n",
      "epoch: 930    train loss: 0.0006728    val loss: 0.0807236\n",
      "epoch: 940    train loss: 0.0006784    val loss: 0.0778616\n",
      "epoch: 950    train loss: 0.0006966    val loss: 0.0819522\n",
      "epoch: 960    train loss: 0.0005665    val loss: 0.0783878\n",
      "epoch: 970    train loss: 0.0005989    val loss: 0.0815484\n",
      "epoch: 980    train loss: 0.0006561    val loss: 0.0866175\n",
      "epoch: 990    train loss: 0.0004987    val loss: 0.0810335\n",
      "epoch: 1000    train loss: 0.0007105    val loss: 0.0824505\n"
     ]
    }
   ],
   "source": [
    "feat_in = 400\n",
    "feat_size1 = 64\n",
    "hidden_size1 = 128\n",
    "output_size =1\n",
    "lr = 0.0001\n",
    "\n",
    "model = My_GNN_NN(n_bus, feat_in, feat_size1, hidden_size1, output_size)\n",
    "optimizer = torch.optim.Adam(model.parameters(), lr=lr)\n",
    "train_loss_list, val_loss_list = [], []\n",
    "\n",
    "count=0\n",
    "patience=1000\n",
    "lossMin = 1e10\n",
    "#device = torch.device(\"cuda:0\" if torch.cuda.is_available() else \"cpu\")\n",
    "\n",
    "for epoch in range(1001):\n",
    "    model.train()\n",
    "    train_loss = 0\n",
    "    for batch in train_loader:\n",
    "        optimizer.zero_grad()\n",
    "        y_train_prediction = model(batch)\n",
    "        loss = MSE(y_train_prediction, batch.y)\n",
    "        loss.backward()\n",
    "        optimizer.step()\n",
    "        train_loss += loss.item() * batch.num_graphs\n",
    "    train_loss /= len(train_loader.dataset)\n",
    "    train_loss_list.append(train_loss)\n",
    "\n",
    "    model.eval()\n",
    "    val_loss=0\n",
    "    for batch in val_loader:\n",
    "        y_val_prediction = model(batch)\n",
    "        loss = MSE(y_val_prediction, batch.y)\n",
    "        val_loss += loss.item() * batch.num_graphs\n",
    "    val_loss /= len(val_loader.dataset)\n",
    "    val_loss_list.append(val_loss)\n",
    "\n",
    "    #early stopping\n",
    "    if (val_loss < lossMin):\n",
    "        lossMin = val_loss\n",
    "        count = 0\n",
    "        best_epoch = epoch\n",
    "        best_train_loss = train_loss\n",
    "        best_val_loss = val_loss\n",
    "        model.save_weights(model, \"Inertia_GNN_NN_model.pt\")\n",
    "    else:\n",
    "        count+=1\n",
    "        if(count>patience):\n",
    "            print(\"early stop at epoch {:d}    train loss: {:.7f}    val loss: {:.7f}\".format(epoch, train_loss, val_loss))\n",
    "            print(\"best val at epoch {:d}    train loss: {:.7f}    val loss: {:.7f}\".format(best_epoch, best_train_loss, best_val_loss))\n",
    "            break\n",
    "    \n",
    "    if (train_loss <= 0):\n",
    "        print(\"min train loss at epoch {:d}    train loss: {:.7f}    val loss: {:.7f}\".format(epoch, train_loss, val_loss))\n",
    "        break\n",
    "\n",
    "    if (epoch % 10) == 0:\n",
    "        print('epoch: {:d}    train loss: {:.7f}    val loss: {:.7f}'.format(epoch, train_loss, val_loss))"
   ]
  },
  {
   "cell_type": "code",
   "execution_count": 11,
   "id": "97f955d8",
   "metadata": {},
   "outputs": [
    {
     "data": {
      "image/png": "[encoded data removed]",
      "text/plain": [
       "<Figure size 640x480 with 1 Axes>"
      ]
     },
     "metadata": {},
     "output_type": "display_data"
    },
    {
     "name": "stdout",
     "output_type": "stream",
     "text": [
      "last epoch: 1000, train loss: 0.0007105, val loss: 0.0824505\n",
      "best epoch: 715, train loss: 0.0010259, val loss: 0.0754196\n"
     ]
    }
   ],
   "source": [
    "#plt.title('GNN NN on power flow dataset')\n",
    "plt.plot(train_loss_list, label=\"train\")\n",
    "plt.plot(val_loss_list, label=\"validation\")\n",
    "plt.yscale('log')\n",
    "#plt.xlabel(\"Epoch\")\n",
    "#plt.ylabel(\"Loss\")\n",
    "plt.ylim(0.0001,10)\n",
    "plt.legend(loc='best')\n",
    "plt.savefig('GNN_trainingSNR45db.png',dpi=1000)\n",
    "plt.show()\n",
    "\n",
    "print('last epoch: {:d}, train loss: {:.7f}, val loss: {:.7f}'.format(epoch, train_loss, val_loss))\n",
    "print('best epoch: {:d}, train loss: {:.7f}, val loss: {:.7f}'.format(best_epoch, best_train_loss, best_val_loss))"
   ]
  },
  {
   "cell_type": "code",
   "execution_count": 12,
   "id": "2e921b1e",
   "metadata": {},
   "outputs": [
    {
     "name": "stdout",
     "output_type": "stream",
     "text": [
      "[1 datapoint] Train output ground-truth: \n",
      "[3.5]\n",
      "[1 datapoint] Train output prediction: \n",
      "[3.54206]\n",
      "[1 datapoint] Train loss (MSE): 0.0017691\n",
      "Train loss (MSE): 0.0061172\n",
      "=========================================================================\n",
      "[1 datapoint] Val output ground-truth: \n",
      "[6.5]\n",
      "[1 datapoint] Val output prediction: \n",
      "[6.81323]\n",
      "[1 datapoint] Val loss (MSE): 10.9774904\n"
     ]
    }
   ],
   "source": [
    "model.eval()\n",
    "\n",
    "y_train_prediction_1 = model(train_loader.dataset[0])\n",
    "train_loss_1 = MSE(y_train_prediction_1, y_raw_train[0])\n",
    "print(\"[1 datapoint] Train output ground-truth: \\n\" + str(y_raw_train[0].detach().numpy()))\n",
    "print(\"[1 datapoint] Train output prediction: \\n\" + str(y_train_prediction_1.detach().numpy()))\n",
    "print('[1 datapoint] Train loss (MSE): {:.7f}'.format(train_loss_1))\n",
    "\n",
    "train_loss = 0\n",
    "for batch in train_loader:\n",
    "    pred = model(batch)\n",
    "    loss = MSE(pred, batch.y)\n",
    "    train_loss += loss.item() * batch.num_graphs\n",
    "train_loss /= len(train_loader.dataset)\n",
    "print('Train loss (MSE): {:.7f}'.format(train_loss))\n",
    "\n",
    "print(\"=========================================================================\")\n",
    "\n",
    "y_val_prediction_1 = model(val_loader.dataset[0])\n",
    "val_loss_1 = MSE(y_val_prediction_1, y_raw_train[0])\n",
    "print(\"[1 datapoint] Val output ground-truth: \\n\" + str(y_raw_val[0].detach().numpy()))\n",
    "print(\"[1 datapoint] Val output prediction: \\n\" + str(y_val_prediction_1.detach().numpy()))\n",
    "print('[1 datapoint] Val loss (MSE): {:.7f}'.format(val_loss_1))"
   ]
  },
  {
   "cell_type": "code",
   "execution_count": 13,
   "id": "aa96fc63",
   "metadata": {},
   "outputs": [
    {
     "data": {
      "text/plain": [
       "Text(0.5, 0, 'Absolute Error')"
      ]
     },
     "execution_count": 13,
     "metadata": {},
     "output_type": "execute_result"
    },
    {
     "data": {
      "image/png": "[encoded data removed]",
      "text/plain": [
       "<Figure size 640x480 with 1 Axes>"
      ]
     },
     "metadata": {},
     "output_type": "display_data"
    }
   ],
   "source": [
    "err = []\n",
    "for i in range(0, len(val_loader.dataset)):\n",
    "    y_val_prediction = model(val_loader.dataset[i])\n",
    "    err.append(y_val_prediction.detach().numpy()-y_raw_val[i].detach().numpy())\n",
    "plt.hist(np.abs(np.array(err)).reshape(-1),bins=[0, 0.02, 0.04, 0.06, 0.08, 0.10, 0.12, 0.14, 0.16, 0.18, 0.20],edgecolor='b')\n",
    "plt.ylabel('Number of Cases')\n",
    "plt.xlabel('Absolute Error')"
   ]
  },
  {
   "cell_type": "code",
   "execution_count": 14,
   "id": "e07db4df",
   "metadata": {},
   "outputs": [
    {
     "data": {
      "image/png": "[encoded data removed]",
      "text/plain": [
       "<Figure size 640x480 with 1 Axes>"
      ]
     },
     "metadata": {},
     "output_type": "display_data"
    }
   ],
   "source": [
    "y_predict = []\n",
    "for i in range(0, len(val_loader.dataset)):\n",
    "    y_val_prediction = model(val_loader.dataset[i])\n",
    "    y_predict.append(y_val_prediction.detach().numpy())\n",
    "\n",
    "plt.xlabel('actual value of inertia(s)')\n",
    "plt.ylabel('estimated values of inertia (s)')\n",
    "plt.scatter(y_raw_val,y_predict)\n",
    "plt.savefig('Scatters_CNN_Delay_0.0.png',dpi=1000)\n",
    "plt.show()"
   ]
  },
  {
   "cell_type": "code",
   "execution_count": 15,
   "id": "8f1cab44",
   "metadata": {},
   "outputs": [
    {
     "name": "stdout",
     "output_type": "stream",
     "text": [
      "Tolerance=0.05: Accuracy= 0.7772727272727272 \n",
      "Tolerance=0.06: Accuracy = 0.8181818181818182 \n",
      "Tolerance=0.07: Accuracy = 0.8818181818181818 \n",
      "Tolerance=0.08: Accuracy = 0.9090909090909091 \n",
      "Tolerance=0.09: Accuracy = 0.9181818181818182 \n",
      "Tolerance=0.1: Accuracy = 0.9409090909090909\n"
     ]
    }
   ],
   "source": [
    "y_raw_val.detach().numpy()\n",
    "percent = np.abs(np.array(err)).reshape(-1) / np.abs(y_raw_val.detach().numpy().reshape(-1))    \n",
    "\n",
    "def acc(thre):\n",
    "    Accuracy = np.sum(percent<=thre)/len(percent)\n",
    "    return Accuracy\n",
    "\n",
    "print('Tolerance=0.05: Accuracy=',acc(0.05),\n",
    "     '\\nTolerance=0.06: Accuracy =',acc(0.06),\n",
    "     '\\nTolerance=0.07: Accuracy =',acc(0.07),\n",
    "     '\\nTolerance=0.08: Accuracy =',acc(0.08),\n",
    "     '\\nTolerance=0.09: Accuracy =',acc(0.09),\n",
    "     '\\nTolerance=0.1: Accuracy =',acc(0.1))"
   ]
  },
  {
   "cell_type": "code",
   "execution_count": 18,
   "id": "f4311847",
   "metadata": {},
   "outputs": [
    {
     "name": "stdout",
     "output_type": "stream",
     "text": [
      "Tolerance=0.1: Accuracy= 0.4 \n",
      "Tolerance=0.2: Accuracy = 0.6818181818181818 \n",
      "Tolerance=0.3: Accuracy = 0.7954545454545454 \n",
      "Tolerance=0.4: Accuracy = 0.9090909090909091 \n",
      "Tolerance=0.5: Accuracy = 0.9454545454545454 \n",
      "Tolerance=0.6: Accuracy = 0.9545454545454546\n"
     ]
    }
   ],
   "source": [
    "y_raw_val.detach().numpy()\n",
    "abs1 = np.abs(np.array(err)).reshape(-1)\n",
    "\n",
    "def acc(thre):\n",
    "    Accuracy = np.sum(abs1<=thre)/len(abs1)\n",
    "    return Accuracy\n",
    "\n",
    "print('Tolerance=0.1: Accuracy=',acc(0.1),\n",
    "     '\\nTolerance=0.2: Accuracy =',acc(0.2),\n",
    "     '\\nTolerance=0.3: Accuracy =',acc(0.3),\n",
    "     '\\nTolerance=0.4: Accuracy =',acc(0.4),\n",
    "     '\\nTolerance=0.5: Accuracy =',acc(0.5),\n",
    "     '\\nTolerance=0.6: Accuracy =',acc(0.6))"
   ]
  },
  {
   "cell_type": "code",
   "execution_count": null,
   "id": "24c2ea52",
   "metadata": {},
   "outputs": [],
   "source": []
  }
 ],
 "metadata": {
  "kernelspec": {
   "display_name": "Python 3 (ipykernel)",
   "language": "python",
   "name": "python3"
  },
  "language_info": {
   "codemirror_mode": {
    "name": "ipython",
    "version": 3
   },
   "file_extension": ".py",
   "mimetype": "text/x-python",
   "name": "python",
   "nbconvert_exporter": "python",
   "pygments_lexer": "ipython3",
   "version": "3.8.13"
  }
 },
 "nbformat": 4,
 "nbformat_minor": 5
}
