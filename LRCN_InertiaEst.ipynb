{
 "cells": [
  {
   "cell_type": "code",
   "execution_count": 1,
   "id": "d2d0c877",
   "metadata": {},
   "outputs": [],
   "source": [
    "import numpy as np\n",
    "import pandas as pd\n",
    "import matplotlib.pyplot as plt\n",
    "from tensorflow import keras\n",
    "import tensorflow_model_optimization as tfmot\n",
    "import tensorflow as tf\n",
    "import os\n",
    "import tempfile\n",
    "from keras.callbacks import ReduceLROnPlateau, TensorBoard, ModelCheckpoint"
   ]
  },
  {
   "cell_type": "code",
   "execution_count": 2,
   "id": "5f732077",
   "metadata": {},
   "outputs": [],
   "source": [
    "dataset = pd.read_excel('train_3rd_wrv.xlsx').values"
   ]
  },
  {
   "cell_type": "code",
   "execution_count": 51,
   "id": "30bbb857",
   "metadata": {},
   "outputs": [],
   "source": [
    "past_hours = 1\n",
    "n_steps = past_hours\n",
    "next_hours = 1\n",
    "next_steps = next_hours"
   ]
  },
  {
   "cell_type": "code",
   "execution_count": 80,
   "id": "0530fea6",
   "metadata": {},
   "outputs": [],
   "source": [
    "train_percentage = 80\n",
    "val_percentage = 20\n",
    "def slice_dataset(dataset, percentage):\n",
    "    data_size = len(dataset)\n",
    "    index = [i for i in range (len(dataset))]\n",
    "    np.random.shuffle(index)\n",
    "    dataset_random = dataset[index,:]\n",
    "    return dataset_random[:int(data_size*percentage/100)],dataset_random[int(data_size*percentage/100):]\n",
    "\n",
    "train_dataset,val_dataset = slice_dataset(dataset, train_percentage)"
   ]
  },
  {
   "cell_type": "code",
   "execution_count": 127,
   "id": "c67879a5",
   "metadata": {},
   "outputs": [],
   "source": [
    "x_train = np.expand_dims(train_dataset[:,0:5200].astype(float),axis =2)\n",
    "Y_train = np.expand_dims(train_dataset[:,7000].astype(float),axis =1)\n",
    "x_test = np.expand_dims(val_dataset[:,0:5200].astype(float),axis =2)\n",
    "Y_test = np.expand_dims(val_dataset[:,7000].astype(float),axis =1)"
   ]
  },
  {
   "cell_type": "code",
   "execution_count": 128,
   "id": "9a53f79f",
   "metadata": {},
   "outputs": [
    {
     "data": {
      "text/plain": [
       "array([[4.5],\n",
       "       [5.5],\n",
       "       [5.5],\n",
       "       [3. ],\n",
       "       [4. ],\n",
       "       [3. ],\n",
       "       [4. ],\n",
       "       [6.5],\n",
       "       [4.5],\n",
       "       [7.5],\n",
       "       [6.5],\n",
       "       [7. ],\n",
       "       [3.5],\n",
       "       [7.5],\n",
       "       [6.5],\n",
       "       [5.5],\n",
       "       [4. ],\n",
       "       [4. ],\n",
       "       [4. ],\n",
       "       [7.5],\n",
       "       [4.5],\n",
       "       [6. ],\n",
       "       [7. ],\n",
       "       [8. ],\n",
       "       [3. ],\n",
       "       [6.5],\n",
       "       [3.5],\n",
       "       [8. ],\n",
       "       [8. ],\n",
       "       [5. ],\n",
       "       [8. ],\n",
       "       [4.5],\n",
       "       [7.5],\n",
       "       [3.5],\n",
       "       [3. ],\n",
       "       [4.5],\n",
       "       [6.5],\n",
       "       [6.5],\n",
       "       [6.5],\n",
       "       [5.5],\n",
       "       [7.5],\n",
       "       [5.5],\n",
       "       [4. ],\n",
       "       [4.5],\n",
       "       [7. ],\n",
       "       [5.5],\n",
       "       [4.5],\n",
       "       [3. ],\n",
       "       [4. ],\n",
       "       [7. ],\n",
       "       [6.5],\n",
       "       [5. ],\n",
       "       [6.5],\n",
       "       [6.5],\n",
       "       [5. ],\n",
       "       [4.5],\n",
       "       [8. ],\n",
       "       [7. ],\n",
       "       [7. ],\n",
       "       [3.5],\n",
       "       [8. ],\n",
       "       [7. ],\n",
       "       [7. ],\n",
       "       [3. ],\n",
       "       [8. ],\n",
       "       [4.5],\n",
       "       [5. ],\n",
       "       [7. ],\n",
       "       [4.5],\n",
       "       [4. ],\n",
       "       [7.5],\n",
       "       [8. ],\n",
       "       [8. ],\n",
       "       [3.5],\n",
       "       [8. ],\n",
       "       [3.5],\n",
       "       [3.5],\n",
       "       [4.5],\n",
       "       [7.5],\n",
       "       [8. ],\n",
       "       [4.5],\n",
       "       [4.5],\n",
       "       [5.5],\n",
       "       [3. ],\n",
       "       [7. ],\n",
       "       [7.5],\n",
       "       [6. ],\n",
       "       [7.5],\n",
       "       [7. ],\n",
       "       [7.5],\n",
       "       [5.5],\n",
       "       [6. ],\n",
       "       [7.5],\n",
       "       [7. ],\n",
       "       [3.5],\n",
       "       [6. ],\n",
       "       [6. ],\n",
       "       [6.5],\n",
       "       [4.5],\n",
       "       [7. ],\n",
       "       [3. ],\n",
       "       [6.5],\n",
       "       [3. ],\n",
       "       [4.5],\n",
       "       [4. ],\n",
       "       [6.5],\n",
       "       [6.5],\n",
       "       [4.5],\n",
       "       [6.5],\n",
       "       [4.5],\n",
       "       [5. ],\n",
       "       [3. ],\n",
       "       [4.5],\n",
       "       [8. ],\n",
       "       [4. ],\n",
       "       [8. ],\n",
       "       [3.5],\n",
       "       [3.5],\n",
       "       [6. ],\n",
       "       [5.5],\n",
       "       [8. ],\n",
       "       [5.5],\n",
       "       [5.5],\n",
       "       [5. ],\n",
       "       [6. ],\n",
       "       [8. ],\n",
       "       [6. ],\n",
       "       [7. ],\n",
       "       [7. ],\n",
       "       [7. ],\n",
       "       [6.5],\n",
       "       [3.5],\n",
       "       [3.5],\n",
       "       [5.5],\n",
       "       [3. ],\n",
       "       [3. ],\n",
       "       [8. ],\n",
       "       [5. ],\n",
       "       [5. ],\n",
       "       [5. ],\n",
       "       [5. ],\n",
       "       [7. ],\n",
       "       [7. ],\n",
       "       [7.5],\n",
       "       [4. ],\n",
       "       [3.5],\n",
       "       [8. ],\n",
       "       [5. ],\n",
       "       [5.5],\n",
       "       [6.5],\n",
       "       [5.5],\n",
       "       [6. ],\n",
       "       [7.5],\n",
       "       [8. ],\n",
       "       [5. ],\n",
       "       [8. ],\n",
       "       [5. ],\n",
       "       [7. ],\n",
       "       [7. ],\n",
       "       [5.5],\n",
       "       [7.5],\n",
       "       [7.5],\n",
       "       [6.5],\n",
       "       [4. ],\n",
       "       [8. ],\n",
       "       [4.5],\n",
       "       [3. ],\n",
       "       [8. ],\n",
       "       [6.5],\n",
       "       [3. ],\n",
       "       [6.5],\n",
       "       [8. ],\n",
       "       [4. ],\n",
       "       [7. ],\n",
       "       [3. ],\n",
       "       [6. ],\n",
       "       [8. ],\n",
       "       [4. ],\n",
       "       [7. ],\n",
       "       [5. ],\n",
       "       [5.5],\n",
       "       [8. ],\n",
       "       [7.5],\n",
       "       [7.5],\n",
       "       [7. ],\n",
       "       [6.5],\n",
       "       [6.5],\n",
       "       [4. ],\n",
       "       [3.5],\n",
       "       [7.5],\n",
       "       [4. ],\n",
       "       [3.5],\n",
       "       [7. ],\n",
       "       [6. ],\n",
       "       [4. ],\n",
       "       [7. ],\n",
       "       [5.5],\n",
       "       [4.5],\n",
       "       [8. ],\n",
       "       [7.5],\n",
       "       [6. ],\n",
       "       [5.5],\n",
       "       [4.5],\n",
       "       [6.5],\n",
       "       [3. ],\n",
       "       [7. ],\n",
       "       [5.5],\n",
       "       [3. ],\n",
       "       [7. ],\n",
       "       [4. ],\n",
       "       [4.5],\n",
       "       [7.5],\n",
       "       [4.5],\n",
       "       [6.5],\n",
       "       [3.5],\n",
       "       [7.5],\n",
       "       [8. ],\n",
       "       [5. ],\n",
       "       [5. ],\n",
       "       [6.5]])"
      ]
     },
     "execution_count": 128,
     "metadata": {},
     "output_type": "execute_result"
    }
   ],
   "source": [
    "Y_test"
   ]
  },
  {
   "cell_type": "code",
   "execution_count": 129,
   "id": "80f5c98d",
   "metadata": {},
   "outputs": [],
   "source": [
    "X_train = x_train.reshape(x_train.shape[0],1, x_train.shape[1])\n",
    "X_test = x_test.reshape(x_test.shape[0],1, x_test.shape[1])"
   ]
  },
  {
   "cell_type": "code",
   "execution_count": 136,
   "id": "8aafa082",
   "metadata": {},
   "outputs": [],
   "source": [
    "def setup_model():\n",
    "    model = keras.Sequential([\n",
    "        #keras.layers.InputLayer(input_shape =(X_train.shape[1],X_train.shape[2])),\n",
    "        keras.layers.Conv1D(filters=48, kernel_size=1,strides=1, padding=\"valid\",activation='relu',input_shape =(X_train.shape[1],X_train.shape[2])),\n",
    "        keras.layers.Conv1D(filters=48, kernel_size=1,strides=1, padding=\"valid\",activation='relu'),\n",
    "        keras.layers.LSTM(32, return_sequences=True),\n",
    "        keras.layers.Flatten(),\n",
    "        #eras.layers.Reshape(target_shape=(99,1,1)),\n",
    "        keras.layers.Dense(128, activation='relu'),\n",
    "        keras.layers.Dropout(0.01),\n",
    "        keras.layers.Dense(64, activation='relu'),\n",
    "        keras.layers.Dense(64, activation='relu'),\n",
    "        keras.layers.Dense(next_steps, activation='linear'),\n",
    "    ])\n",
    "    return model"
   ]
  },
  {
   "cell_type": "code",
   "execution_count": 137,
   "id": "eb006d62",
   "metadata": {},
   "outputs": [
    {
     "ename": "ValueError",
     "evalue": "One of the dimensions in the output is <= 0 due to downsampling in conv1d_43. Consider increasing the input size. Received input shape [None, 1, 5200] which would produce output shape with a zero or negative value in a dimension.",
     "output_type": "error",
     "traceback": [
      "\u001b[1;31m---------------------------------------------------------------------------\u001b[0m",
      "\u001b[1;31mValueError\u001b[0m                                Traceback (most recent call last)",
      "\u001b[1;32m~\\AppData\\Local\\Temp\\ipykernel_23796\\584517289.py\u001b[0m in \u001b[0;36m<module>\u001b[1;34m\u001b[0m\n\u001b[1;32m----> 1\u001b[1;33m \u001b[0mbase_model\u001b[0m \u001b[1;33m=\u001b[0m \u001b[0msetup_model\u001b[0m\u001b[1;33m(\u001b[0m\u001b[1;33m)\u001b[0m\u001b[1;33m\u001b[0m\u001b[1;33m\u001b[0m\u001b[0m\n\u001b[0m\u001b[0;32m      2\u001b[0m base_model.compile(optimizer = 'adam',\n\u001b[0;32m      3\u001b[0m                  \u001b[0mloss\u001b[0m \u001b[1;33m=\u001b[0m \u001b[1;34m'mse'\u001b[0m\u001b[1;33m,\u001b[0m\u001b[1;33m\u001b[0m\u001b[1;33m\u001b[0m\u001b[0m\n\u001b[0;32m      4\u001b[0m                  metrics = ['mae','mse'])\n\u001b[0;32m      5\u001b[0m \u001b[0mreduce_lr\u001b[0m \u001b[1;33m=\u001b[0m \u001b[0mReduceLROnPlateau\u001b[0m\u001b[1;33m(\u001b[0m\u001b[0mmonitor\u001b[0m\u001b[1;33m=\u001b[0m\u001b[1;34m'val_loss'\u001b[0m\u001b[1;33m,\u001b[0m\u001b[0mfactor\u001b[0m \u001b[1;33m=\u001b[0m \u001b[1;36m0.5\u001b[0m\u001b[1;33m,\u001b[0m \u001b[0mpatience\u001b[0m\u001b[1;33m=\u001b[0m\u001b[1;36m20\u001b[0m\u001b[1;33m,\u001b[0m \u001b[0mmode\u001b[0m\u001b[1;33m=\u001b[0m\u001b[1;34m'auto'\u001b[0m\u001b[1;33m)\u001b[0m\u001b[1;33m\u001b[0m\u001b[1;33m\u001b[0m\u001b[0m\n",
      "\u001b[1;32m~\\AppData\\Local\\Temp\\ipykernel_23796\\1500900209.py\u001b[0m in \u001b[0;36msetup_model\u001b[1;34m()\u001b[0m\n\u001b[0;32m     11\u001b[0m         \u001b[0mkeras\u001b[0m\u001b[1;33m.\u001b[0m\u001b[0mlayers\u001b[0m\u001b[1;33m.\u001b[0m\u001b[0mDense\u001b[0m\u001b[1;33m(\u001b[0m\u001b[1;36m64\u001b[0m\u001b[1;33m,\u001b[0m \u001b[0mactivation\u001b[0m\u001b[1;33m=\u001b[0m\u001b[1;34m'relu'\u001b[0m\u001b[1;33m)\u001b[0m\u001b[1;33m,\u001b[0m\u001b[1;33m\u001b[0m\u001b[1;33m\u001b[0m\u001b[0m\n\u001b[0;32m     12\u001b[0m         \u001b[0mkeras\u001b[0m\u001b[1;33m.\u001b[0m\u001b[0mlayers\u001b[0m\u001b[1;33m.\u001b[0m\u001b[0mDense\u001b[0m\u001b[1;33m(\u001b[0m\u001b[1;36m64\u001b[0m\u001b[1;33m,\u001b[0m \u001b[0mactivation\u001b[0m\u001b[1;33m=\u001b[0m\u001b[1;34m'relu'\u001b[0m\u001b[1;33m)\u001b[0m\u001b[1;33m,\u001b[0m\u001b[1;33m\u001b[0m\u001b[1;33m\u001b[0m\u001b[0m\n\u001b[1;32m---> 13\u001b[1;33m         \u001b[0mkeras\u001b[0m\u001b[1;33m.\u001b[0m\u001b[0mlayers\u001b[0m\u001b[1;33m.\u001b[0m\u001b[0mDense\u001b[0m\u001b[1;33m(\u001b[0m\u001b[0mnext_steps\u001b[0m\u001b[1;33m,\u001b[0m \u001b[0mactivation\u001b[0m\u001b[1;33m=\u001b[0m\u001b[1;34m'linear'\u001b[0m\u001b[1;33m)\u001b[0m\u001b[1;33m,\u001b[0m\u001b[1;33m\u001b[0m\u001b[1;33m\u001b[0m\u001b[0m\n\u001b[0m\u001b[0;32m     14\u001b[0m     ])\n\u001b[0;32m     15\u001b[0m     \u001b[1;32mreturn\u001b[0m \u001b[0mmodel\u001b[0m\u001b[1;33m\u001b[0m\u001b[1;33m\u001b[0m\u001b[0m\n",
      "\u001b[1;32mD:\\ProgramData\\Anaconda3\\envs\\py36\\lib\\site-packages\\tensorflow\\python\\trackable\\base.py\u001b[0m in \u001b[0;36m_method_wrapper\u001b[1;34m(self, *args, **kwargs)\u001b[0m\n\u001b[0;32m    203\u001b[0m     \u001b[0mself\u001b[0m\u001b[1;33m.\u001b[0m\u001b[0m_self_setattr_tracking\u001b[0m \u001b[1;33m=\u001b[0m \u001b[1;32mFalse\u001b[0m  \u001b[1;31m# pylint: disable=protected-access\u001b[0m\u001b[1;33m\u001b[0m\u001b[1;33m\u001b[0m\u001b[0m\n\u001b[0;32m    204\u001b[0m     \u001b[1;32mtry\u001b[0m\u001b[1;33m:\u001b[0m\u001b[1;33m\u001b[0m\u001b[1;33m\u001b[0m\u001b[0m\n\u001b[1;32m--> 205\u001b[1;33m       \u001b[0mresult\u001b[0m \u001b[1;33m=\u001b[0m \u001b[0mmethod\u001b[0m\u001b[1;33m(\u001b[0m\u001b[0mself\u001b[0m\u001b[1;33m,\u001b[0m \u001b[1;33m*\u001b[0m\u001b[0margs\u001b[0m\u001b[1;33m,\u001b[0m \u001b[1;33m**\u001b[0m\u001b[0mkwargs\u001b[0m\u001b[1;33m)\u001b[0m\u001b[1;33m\u001b[0m\u001b[1;33m\u001b[0m\u001b[0m\n\u001b[0m\u001b[0;32m    206\u001b[0m     \u001b[1;32mfinally\u001b[0m\u001b[1;33m:\u001b[0m\u001b[1;33m\u001b[0m\u001b[1;33m\u001b[0m\u001b[0m\n\u001b[0;32m    207\u001b[0m       \u001b[0mself\u001b[0m\u001b[1;33m.\u001b[0m\u001b[0m_self_setattr_tracking\u001b[0m \u001b[1;33m=\u001b[0m \u001b[0mprevious_value\u001b[0m  \u001b[1;31m# pylint: disable=protected-access\u001b[0m\u001b[1;33m\u001b[0m\u001b[1;33m\u001b[0m\u001b[0m\n",
      "\u001b[1;32mD:\\ProgramData\\Anaconda3\\envs\\py36\\lib\\site-packages\\keras\\utils\\traceback_utils.py\u001b[0m in \u001b[0;36merror_handler\u001b[1;34m(*args, **kwargs)\u001b[0m\n\u001b[0;32m     68\u001b[0m             \u001b[1;31m# To get the full stack trace, call:\u001b[0m\u001b[1;33m\u001b[0m\u001b[1;33m\u001b[0m\u001b[1;33m\u001b[0m\u001b[0m\n\u001b[0;32m     69\u001b[0m             \u001b[1;31m# `tf.debugging.disable_traceback_filtering()`\u001b[0m\u001b[1;33m\u001b[0m\u001b[1;33m\u001b[0m\u001b[1;33m\u001b[0m\u001b[0m\n\u001b[1;32m---> 70\u001b[1;33m             \u001b[1;32mraise\u001b[0m \u001b[0me\u001b[0m\u001b[1;33m.\u001b[0m\u001b[0mwith_traceback\u001b[0m\u001b[1;33m(\u001b[0m\u001b[0mfiltered_tb\u001b[0m\u001b[1;33m)\u001b[0m \u001b[1;32mfrom\u001b[0m \u001b[1;32mNone\u001b[0m\u001b[1;33m\u001b[0m\u001b[1;33m\u001b[0m\u001b[0m\n\u001b[0m\u001b[0;32m     71\u001b[0m         \u001b[1;32mfinally\u001b[0m\u001b[1;33m:\u001b[0m\u001b[1;33m\u001b[0m\u001b[1;33m\u001b[0m\u001b[0m\n\u001b[0;32m     72\u001b[0m             \u001b[1;32mdel\u001b[0m \u001b[0mfiltered_tb\u001b[0m\u001b[1;33m\u001b[0m\u001b[1;33m\u001b[0m\u001b[0m\n",
      "\u001b[1;32mD:\\ProgramData\\Anaconda3\\envs\\py36\\lib\\site-packages\\keras\\layers\\convolutional\\base_conv.py\u001b[0m in \u001b[0;36mcompute_output_shape\u001b[1;34m(self, input_shape)\u001b[0m\n\u001b[0;32m    346\u001b[0m         \u001b[1;32mexcept\u001b[0m \u001b[0mValueError\u001b[0m\u001b[1;33m:\u001b[0m\u001b[1;33m\u001b[0m\u001b[1;33m\u001b[0m\u001b[0m\n\u001b[0;32m    347\u001b[0m             raise ValueError(\n\u001b[1;32m--> 348\u001b[1;33m                 \u001b[1;34mf\"One of the dimensions in the output is <= 0 \"\u001b[0m\u001b[1;33m\u001b[0m\u001b[1;33m\u001b[0m\u001b[0m\n\u001b[0m\u001b[0;32m    349\u001b[0m                 \u001b[1;34mf\"due to downsampling in {self.name}. Consider \"\u001b[0m\u001b[1;33m\u001b[0m\u001b[1;33m\u001b[0m\u001b[0m\n\u001b[0;32m    350\u001b[0m                 \u001b[1;34mf\"increasing the input size. \"\u001b[0m\u001b[1;33m\u001b[0m\u001b[1;33m\u001b[0m\u001b[0m\n",
      "\u001b[1;31mValueError\u001b[0m: One of the dimensions in the output is <= 0 due to downsampling in conv1d_43. Consider increasing the input size. Received input shape [None, 1, 5200] which would produce output shape with a zero or negative value in a dimension."
     ]
    }
   ],
   "source": [
    "base_model = setup_model()\n",
    "base_model.compile(optimizer = 'adam',\n",
    "                 loss = 'mse',\n",
    "                 metrics = ['mae','mse'])\n",
    "reduce_lr = ReduceLROnPlateau(monitor='val_loss',factor = 0.5, patience=20, mode='auto')\n",
    "log_filepath = os.path.join('log')\n",
    "tb_cb = tf.keras.callbacks.TensorBoard(log_dir=log_filepath,histogram_freq=1)\n",
    "history = base_model.fit(X_train, Y_train, validation_data=(X_test, Y_test), epochs=200,batch_size=16,callbacks=[reduce_lr])\n",
    "scores = base_model.evaluate(X_test, Y_test, verbose=0)\n",
    "#model.save(os.path.join(log_filepath,'DNN_model.h5'))\n",
    "print('%s: %.2f%%' % (base_model.metrics_names[1], scores[1] * 100))"
   ]
  },
  {
   "cell_type": "code",
   "execution_count": 132,
   "id": "64d93d16",
   "metadata": {},
   "outputs": [
    {
     "data": {
      "image/png": "[encoded data removed]",
      "text/plain": [
       "<Figure size 640x480 with 1 Axes>"
      ]
     },
     "metadata": {},
     "output_type": "display_data"
    }
   ],
   "source": [
    "from matplotlib import pyplot\n",
    "from sklearn.metrics import classification_report\n",
    "from sklearn.metrics import confusion_matrix\n",
    "pyplot.plot(history.history['loss'], label='train')\n",
    "pyplot.plot(history.history['val_loss'], label='validation')\n",
    "pyplot.yscale('log')\n",
    "pyplot.legend()\n",
    "pyplot.show()"
   ]
  },
  {
   "cell_type": "code",
   "execution_count": 133,
   "id": "f52ccbd3",
   "metadata": {},
   "outputs": [
    {
     "name": "stdout",
     "output_type": "stream",
     "text": [
      "WARNING:tensorflow:AutoGraph could not transform <function Model.make_predict_function.<locals>.predict_function at 0x000001DFA480D318> and will run it as-is.\n",
      "Please report this to the TensorFlow team. When filing the bug, set the verbosity to 10 (on Linux, `export AUTOGRAPH_VERBOSITY=10`) and attach the full output.\n",
      "Cause: 'arguments' object has no attribute 'posonlyargs'\n",
      "To silence this warning, decorate the function with @tf.autograph.experimental.do_not_convert\n",
      "WARNING: AutoGraph could not transform <function Model.make_predict_function.<locals>.predict_function at 0x000001DFA480D318> and will run it as-is.\n",
      "Please report this to the TensorFlow team. When filing the bug, set the verbosity to 10 (on Linux, `export AUTOGRAPH_VERBOSITY=10`) and attach the full output.\n",
      "Cause: 'arguments' object has no attribute 'posonlyargs'\n",
      "To silence this warning, decorate the function with @tf.autograph.experimental.do_not_convert\n",
      "7/7 [==============================] - 0s 3ms/step\n",
      "[5.528168]\n",
      "[5.5]\n"
     ]
    }
   ],
   "source": [
    "predicted =base_model.predict(X_test)\n",
    "#inverse_data1 = min_max_scaler.inverse_transform(predicted)\n",
    "#inverse_data2 = min_max_scaler.inverse_transform(Y_test)\n",
    "print(predicted[1])\n",
    "print(Y_test[1].reshape(1))\n",
    "ERR = []\n",
    "for i in range(0,len(Y_val)):\n",
    "    error=(predicted[i]-Y_test[i].reshape(1))\n",
    "    ERR.append(error)\n",
    "ERR=np.abs(np.array(ERR))"
   ]
  },
  {
   "cell_type": "code",
   "execution_count": 134,
   "id": "97a4cb1f",
   "metadata": {},
   "outputs": [
    {
     "data": {
      "image/png": "[encoded data removed]",
      "text/plain": [
       "<Figure size 640x480 with 1 Axes>"
      ]
     },
     "metadata": {},
     "output_type": "display_data"
    }
   ],
   "source": [
    "plt.xlabel('actual value of inertia(s)')\n",
    "plt.ylabel('estimated values of inertia (s)')\n",
    "plt.scatter(Y_test,predicted)\n",
    "plt.savefig('Scatters_LRCN_Delay_0.0.png',dpi=1000)\n",
    "plt.show()"
   ]
  },
  {
   "cell_type": "code",
   "execution_count": 135,
   "id": "21d840e1",
   "metadata": {},
   "outputs": [
    {
     "name": "stdout",
     "output_type": "stream",
     "text": [
      "\n",
      "Tolerance=0.1: Accuracy= 0.6545454545454545 \n",
      "Tolerance=0.2: Accuracy= 0.8909090909090909 \n",
      "Tolerance=0.3: Accuracy= 0.9272727272727272 \n",
      "Tolerance=0.4: Accuracy= 0.9636363636363636 \n",
      "Tolerance=0.5: Accuracy= 0.9636363636363636\n"
     ]
    }
   ],
   "source": [
    "#print(ERR)\n",
    "absvalues  = ERR.reshape(-1)\n",
    "def acc(thre):\n",
    "    Accuracy = np.sum(absvalues<=thre)/len(absvalues)\n",
    "    return  Accuracy\n",
    "print('\\nTolerance=0.1: Accuracy=',  acc(0.1),\n",
    "      '\\nTolerance=0.2: Accuracy=',  acc(0.2),\n",
    "      '\\nTolerance=0.3: Accuracy=',  acc(0.3),\n",
    "    '\\nTolerance=0.4: Accuracy=', acc(0.4),'\\nTolerance=0.5: Accuracy=',  acc(0.5))"
   ]
  },
  {
   "cell_type": "code",
   "execution_count": null,
   "id": "76a389e3",
   "metadata": {},
   "outputs": [],
   "source": []
  }
 ],
 "metadata": {
  "kernelspec": {
   "display_name": "Python 3 (ipykernel)",
   "language": "python",
   "name": "python3"
  },
  "language_info": {
   "codemirror_mode": {
    "name": "ipython",
    "version": 3
   },
   "file_extension": ".py",
   "mimetype": "text/x-python",
   "name": "python",
   "nbconvert_exporter": "python",
   "pygments_lexer": "ipython3",
   "version": "3.7.11"
  }
 },
 "nbformat": 4,
 "nbformat_minor": 5
}
